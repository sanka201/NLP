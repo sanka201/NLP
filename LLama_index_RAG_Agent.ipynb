{
 "cells": [
  {
   "cell_type": "code",
   "execution_count": 1,
   "metadata": {},
   "outputs": [
    {
     "name": "stdout",
     "output_type": "stream",
     "text": [
      "The facilities and assets in GLEAMM include a 150-kW solar array, access to multiple wind turbines through partnership with Sandia National Laboratories, an array of distributed phasor measurement units (PMUs), 1 MW programmable resistive loads, a 187-kVAR programmable load, a 30-kW four-quadrant inverter, a 500-kW Diesel generator, an 81.6-kWh energy storage system, and a control building fully instrumented with voltage and current sensors for data acquisition and a local meteorological station. OPAL-RT \"hardware in the loop\" (HIL) simulation equipment and various software simulation capabilities are also available at GLEAMM.\n",
      "\n",
      "For NIRE, while there is no specific information provided about its assets and facilities in the context, it is mentioned that this project is being carried out at the existing research facility in Lubbock, Texas, which includes TTU-GLEAMM and the National Wind Institute sites.\n",
      "Yes, the GLEAMM facilities are equipped with OPAL-RT \"hardware in the loop\" (HIL) simulation equipment, which allows for HIL simulation studies to be conducted. This capability enables the integration of computer-based models with hardware devices to analyze their interactions.\n",
      " Based on the available facilities and assets at GLEAMM, here are some examples of control algorithms that could potentially be used in building-level load control:\n",
      "\n",
      "1. Model Predictive Control (MPC): MPC is a popular advanced control algorithm for optimizing energy consumption in buildings by predicting future energy demands and adjusting the controllable loads accordingly. GLEAMM's HIL simulation equipment can help test and validate MPC algorithms for building-level load control under various operating conditions.\n",
      "2. Demand Response (DR): DR is a control strategy that manages building electrical demand by shifting or reducing power consumption during peak periods. With the 150-kW solar array, energy storage system, and programmable resistive loads at GLEAMM, researchers can test different DR algorithms to analyze their impact on building energy efficiency, demand response performance, and occupant comfort.\n",
      "3. Load Frequency Control (LFC): LFC is a control algorithm used in power systems to maintain the grid frequency close to its nominal value by adjusting the generation or load levels. GLEAMM's Diesel generator, 500-kW Diesel generator, and programmable resistive loads can be used to test different LFC strategies for building-level load control under various operating conditions.\n",
      "4. Optimal Power Flow (OPF): OPF is a mathematical optimization technique that determines the optimal power flow in an electrical network while satisfying operational constraints. GLEAMM's HIL simulation equipment and power system components can be used to test and validate different OPF algorithms for building-level load control under various operating conditions.\n",
      "5. State Estimation (SE): SE is a control algorithm that estimates the state of a power system based on available measurements. With the PMUs, voltage and current sensors, and meteorological station at GLEAMM, researchers can test different SE algorithms for building-level load control under various operating conditions.\n",
      "\n",
      "These are just a few examples of control algorithms that could be tested and validated using the facilities and assets available at GLEAMM for building-level load control studies.\n",
      " Designing a resiliency use case for a microgrid with 10 buildings, solar, and a 700 kW battery system can be approached by following these general steps while incorporating the capabilities of Group NIRE and GLEAMM:\n",
      "\n",
      "Step 1: Define the Microgrid Architecture\n",
      "Define the microgrid architecture based on the 10 buildings, solar panels, and battery storage. Determine the size and capacity of each component to meet the energy demand of the buildings while considering the available space, cost, and environmental impact. For example, a 700 kW battery system can be used for storing excess solar energy generated during peak sunlight hours for later use during power outages or high-demand periods.\n",
      "\n",
      "Step 2: Identify Critical Loads\n",
      "Identify the critical loads in each building that need to be maintained during power outages, such as lighting, HVAC systems, and medical equipment. Determine the power requirements of these loads and prioritize them based on their importance.\n",
      "\n",
      "Step 3: Select Control Algorithms\n",
      "Select appropriate control algorithms for managing the microgrid's energy flow and ensuring its resiliency during power outages. Some possible algorithms include:\n",
      "\n",
      "* Model Predictive Control (MPC) to optimize energy consumption and reduce peak demand.\n",
      "* Demand Response (DR) to manage building electrical demand by shifting or reducing power consumption during peak periods.\n",
      "* Load Frequency Control (LFC) to maintain the grid frequency close to its nominal value by adjusting the generation or load levels.\n",
      "* Optimal Power Flow (OPF) to determine the optimal power flow in an electrical network while satisfying operational constraints.\n",
      "* State Estimation (SE) to estimate the state of a power system based on available measurements.\n",
      "\n",
      "Step 4: Integrate NIRE and GLEAMM Assets\n",
      "Integrate the assets from Group NIRE and GLEAMM, such as HIL simulation equipment, PMUs, voltage and current sensors, meteorological station, Diesel generators, programmable resistive loads, and energy storage systems, into the microgrid architecture. These assets can be used for testing and validating different control algorithms under various operating conditions.\n",
      "\n",
      "Step 5: Test and Validate\n",
      "Test and validate the microgrid's resiliency use case by simulating power outages, peak demand periods, and other disturbances using HIL simulation equipment. Analyze the performance of the control algorithms and make adjustments as necessary to ensure the microgrid can maintain critical loads during power outages and reduce energy consumption during high-demand periods.\n",
      "\n",
      "Step 6: Implement and Monitor\n",
      "Implement the microgrid's resiliency use case by installing and integrating the components into the physical infrastructure of the buildings. Monitor the microgrid's performance using PMUs, voltage and current sensors, and other measurement devices to ensure it is operating efficiently and effectively. Make adjustments as necessary based on real-world data and feedback from building occupants.\n",
      "\n",
      "By following these general steps and incorporating the capabilities of Group NIRE and GLEAMM, a resiliency use case for a microgrid with 10 buildings, solar panels, and a 700 kW battery system can be designed to ensure uninterrupted power supply during power outages and reduce energy consumption during high-demand periods.\n"
     ]
    }
   ],
   "source": [
    "from llama_index.core.agent import ReActAgent\n",
    "import os\n",
    "from llama_index.llms.ollama import Ollama\n",
    "from llama_index.llms.openai import OpenAI\n",
    "from llama_index.core.tools import FunctionTool\n",
    "from llama_index.core import SimpleDirectoryReader, VectorStoreIndex, Settings\n",
    "from llama_index.core.tools import QueryEngineTool\n",
    "# settings\n",
    "#Settings.llm = OpenAI(model=\"gpt-3.5-turbo\",temperature=0.4)\n",
    "Settings.llm =Ollama(model=\"mixtral\", request_timeout=120.0,temperature=0.4)\n",
    "\n",
    "# function tools\n",
    "def multiply(a: float, b: float) -> float:\n",
    "    \"\"\"Multiply two numbers and returns the product\"\"\"\n",
    "    return a * b\n",
    "\n",
    "multiply_tool = FunctionTool.from_defaults(fn=multiply)\n",
    "\n",
    "def add(a: float, b: float) -> float:\n",
    "    \"\"\"Add two numbers and returns the sum\"\"\"\n",
    "    return a + b\n",
    "\n",
    "add_tool = FunctionTool.from_defaults(fn=add)\n",
    "\n",
    "# rag pipeline\n",
    "documents = SimpleDirectoryReader(\"./data2\").load_data()\n",
    "index = VectorStoreIndex.from_documents(documents)\n",
    "query_engine = index.as_query_engine()\n",
    "\n",
    "# response = query_engine.query(\"What was the total amount of the 2023 Canadian federal budget?\")\n",
    "# print(response)\n",
    "\n",
    "# rag pipeline as a tool\n",
    "budget_tool = QueryEngineTool.from_defaults(\n",
    "    query_engine, \n",
    "    name=\"ESTCP_EW_Final_Report_Document\",\n",
    "    description=\"A RAG engine with some basic facts about the 2023 Canadian federal budget.\"\n",
    ")\n",
    "\n",
    "agent = ReActAgent.from_tools([multiply_tool, add_tool, budget_tool])\n",
    "\n",
    "response = agent.chat(\"can you list Facilities and Assets in GLEAMM and the group NIRE ?\")\n",
    "\n",
    "print(response)\n",
    "response = agent.chat(\"Are these Facilities can be used to run HIL simulation studies? \")\n",
    "\n",
    "print(response)\n",
    "\n",
    "response = agent.chat(\"Based on above capabilities Give me example for avialable control agorithems can be run in building level load contol ?\")\n",
    "\n",
    "print(response)\n",
    "response = agent.chat(\"How to design a a Resiliency use case for a microgrid with 10 buildings, solar and 700KW battary system?. give me general step which incoperates group NIRE and GLEAMM assests, give me technical detals including size of the assets possible algorithems. stick only for capabilites of group NIRE and GLEAMM. \")\n",
    "\n",
    "print(response)\n",
    "response = agent.chat(\"List possible control architectures and algorithem can be used in the design \")"
   ]
  },
  {
   "cell_type": "code",
   "execution_count": 1,
   "metadata": {},
   "outputs": [
    {
     "name": "stderr",
     "output_type": "stream",
     "text": [
      "2024-07-24 16:57:38.216 \n",
      "  \u001b[33m\u001b[1mWarning:\u001b[0m to view this Streamlit app on a browser, run it with the following\n",
      "  command:\n",
      "\n",
      "    streamlit run /home/sanka/anaconda3/envs/LLMv1/lib/python3.10/site-packages/ipykernel_launcher.py [ARGUMENTS]\n",
      "2024-07-24 16:57:38.217 Session state does not function when running a script without `streamlit run`\n"
     ]
    }
   ],
   "source": []
  }
 ],
 "metadata": {
  "kernelspec": {
   "display_name": "LLMv1",
   "language": "python",
   "name": "python3"
  },
  "language_info": {
   "codemirror_mode": {
    "name": "ipython",
    "version": 3
   },
   "file_extension": ".py",
   "mimetype": "text/x-python",
   "name": "python",
   "nbconvert_exporter": "python",
   "pygments_lexer": "ipython3",
   "version": "3.10.14"
  }
 },
 "nbformat": 4,
 "nbformat_minor": 2
}
