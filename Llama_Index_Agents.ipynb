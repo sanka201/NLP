{
 "cells": [
  {
   "cell_type": "code",
   "execution_count": 10,
   "metadata": {},
   "outputs": [],
   "source": [
    "from llama_index.core import (\n",
    "    SimpleDirectoryReader,\n",
    "    VectorStoreIndex,\n",
    "    StorageContext,\n",
    "    load_index_from_storage,\n",
    ")\n",
    "from llama_index.llms.openai import OpenAI\n",
    "from llama_index.core.tools import QueryEngineTool, ToolMetadata"
   ]
  },
  {
   "cell_type": "code",
   "execution_count": 2,
   "metadata": {},
   "outputs": [],
   "source": [
    "# llm = OpenAI(model=\"gpt-3.5-turbo\")\n",
    "llm = OpenAI(model=\"gpt-4-1106-preview\")"
   ]
  },
  {
   "cell_type": "code",
   "execution_count": 3,
   "metadata": {},
   "outputs": [
    {
     "name": "stdout",
     "output_type": "stream",
     "text": [
      "--2024-07-24 11:25:40--  https://raw.githubusercontent.com/run-llama/llama_index/main/docs/docs/examples/data/10q/uber_10q_march_2022.pdf\n",
      "Resolving raw.githubusercontent.com (raw.githubusercontent.com)... 185.199.109.133, 185.199.111.133, 185.199.108.133, ...\n",
      "Connecting to raw.githubusercontent.com (raw.githubusercontent.com)|185.199.109.133|:443... connected.\n",
      "HTTP request sent, awaiting response... 200 OK\n",
      "Length: 1260185 (1.2M) [application/octet-stream]\n",
      "Saving to: ‘data/10q/uber_10q_march_2022.pdf’\n",
      "\n",
      "data/10q/uber_10q_m 100%[===================>]   1.20M  6.40MB/s    in 0.2s    \n",
      "\n",
      "2024-07-24 11:25:40 (6.40 MB/s) - ‘data/10q/uber_10q_march_2022.pdf’ saved [1260185/1260185]\n",
      "\n",
      "--2024-07-24 11:25:41--  https://raw.githubusercontent.com/run-llama/llama_index/main/docs/docs/examples/data/10q/uber_10q_june_2022.pdf\n",
      "Resolving raw.githubusercontent.com (raw.githubusercontent.com)... 185.199.110.133, 185.199.108.133, 185.199.111.133, ...\n",
      "Connecting to raw.githubusercontent.com (raw.githubusercontent.com)|185.199.110.133|:443... connected.\n",
      "HTTP request sent, awaiting response... 200 OK\n",
      "Length: 1238483 (1.2M) [application/octet-stream]\n",
      "Saving to: ‘data/10q/uber_10q_june_2022.pdf’\n",
      "\n",
      "data/10q/uber_10q_j 100%[===================>]   1.18M  --.-KB/s    in 0.08s   \n",
      "\n",
      "2024-07-24 11:25:42 (14.1 MB/s) - ‘data/10q/uber_10q_june_2022.pdf’ saved [1238483/1238483]\n",
      "\n",
      "--2024-07-24 11:25:42--  https://raw.githubusercontent.com/run-llama/llama_index/main/docs/docs/examples/data/10q/uber_10q_sept_2022.pdf\n",
      "Resolving raw.githubusercontent.com (raw.githubusercontent.com)... 185.199.110.133, 185.199.111.133, 185.199.109.133, ...\n",
      "Connecting to raw.githubusercontent.com (raw.githubusercontent.com)|185.199.110.133|:443... connected.\n",
      "HTTP request sent, awaiting response... 200 OK\n",
      "Length: 1178622 (1.1M) [application/octet-stream]\n",
      "Saving to: ‘data/10q/uber_10q_sept_2022.pdf’\n",
      "\n",
      "data/10q/uber_10q_s 100%[===================>]   1.12M  6.83MB/s    in 0.2s    \n",
      "\n",
      "2024-07-24 11:25:43 (6.83 MB/s) - ‘data/10q/uber_10q_sept_2022.pdf’ saved [1178622/1178622]\n",
      "\n"
     ]
    }
   ],
   "source": [
    "!mkdir -p 'data/10q/'\n",
    "!wget 'https://raw.githubusercontent.com/run-llama/llama_index/main/docs/docs/examples/data/10q/uber_10q_march_2022.pdf' -O 'data/10q/uber_10q_march_2022.pdf'\n",
    "!wget 'https://raw.githubusercontent.com/run-llama/llama_index/main/docs/docs/examples/data/10q/uber_10q_june_2022.pdf' -O 'data/10q/uber_10q_june_2022.pdf'\n",
    "!wget 'https://raw.githubusercontent.com/run-llama/llama_index/main/docs/docs/examples/data/10q/uber_10q_sept_2022.pdf' -O 'data/10q/uber_10q_sept_2022.pdf'"
   ]
  },
  {
   "cell_type": "code",
   "execution_count": 4,
   "metadata": {},
   "outputs": [],
   "source": [
    "march_2022 = SimpleDirectoryReader(\n",
    "    input_files=[\"./data/10q/uber_10q_march_2022.pdf\"]\n",
    ").load_data()\n",
    "june_2022 = SimpleDirectoryReader(\n",
    "    input_files=[\"./data/10q/uber_10q_june_2022.pdf\"]\n",
    ").load_data()\n",
    "sept_2022 = SimpleDirectoryReader(\n",
    "    input_files=[\"./data/10q/uber_10q_sept_2022.pdf\"]\n",
    ").load_data()"
   ]
  },
  {
   "cell_type": "code",
   "execution_count": 5,
   "metadata": {},
   "outputs": [],
   "source": [
    "import os\n",
    "\n",
    "\n",
    "def get_tool(name, full_name, documents=None):\n",
    "    if not os.path.exists(f\"./data/{name}\"):\n",
    "        # build vector index\n",
    "        vector_index = VectorStoreIndex.from_documents(documents)\n",
    "        vector_index.storage_context.persist(persist_dir=f\"./data/{name}\")\n",
    "    else:\n",
    "        vector_index = load_index_from_storage(\n",
    "            StorageContext.from_defaults(persist_dir=f\"./data/{name}\"),\n",
    "        )\n",
    "    query_engine = vector_index.as_query_engine(similarity_top_k=3, llm=llm)\n",
    "    query_engine_tool = QueryEngineTool(\n",
    "        query_engine=query_engine,\n",
    "        metadata=ToolMetadata(\n",
    "            name=name,\n",
    "            description=(\n",
    "                \"Provides information about Uber quarterly financials ending\"\n",
    "                f\" {full_name}\"\n",
    "            ),\n",
    "        ),\n",
    "    )\n",
    "    return query_engine_tool"
   ]
  },
  {
   "cell_type": "code",
   "execution_count": 8,
   "metadata": {},
   "outputs": [],
   "source": [
    "\n",
    "march_tool = get_tool(\"march_2022\", \"March 2022\", documents=march_2022)\n",
    "june_tool = get_tool(\"june_2022\", \"June 2022\", documents=june_2022)\n",
    "sept_tool = get_tool(\"sept_2022\", \"September 2022\", documents=sept_2022)"
   ]
  },
  {
   "cell_type": "code",
   "execution_count": 14,
   "metadata": {},
   "outputs": [],
   "source": [
    "query_engine_tools = [march_tool]"
   ]
  },
  {
   "cell_type": "code",
   "execution_count": 1,
   "metadata": {},
   "outputs": [
    {
     "ename": "NameError",
     "evalue": "name 'query_engine_tools' is not defined",
     "output_type": "error",
     "traceback": [
      "\u001b[0;31m---------------------------------------------------------------------------\u001b[0m",
      "\u001b[0;31mNameError\u001b[0m                                 Traceback (most recent call last)",
      "Cell \u001b[0;32mIn[1], line 17\u001b[0m\n\u001b[1;32m      6\u001b[0m \u001b[38;5;66;03m# openai_step_engine = OpenAIAgentWorker.from_tools(\u001b[39;00m\n\u001b[1;32m      7\u001b[0m \u001b[38;5;66;03m#     query_engine_tools, llm=llm, verbose=True\u001b[39;00m\n\u001b[1;32m      8\u001b[0m \u001b[38;5;66;03m# )\u001b[39;00m\n\u001b[0;32m   (...)\u001b[0m\n\u001b[1;32m     12\u001b[0m \n\u001b[1;32m     13\u001b[0m \u001b[38;5;66;03m#agent_llm = OpenAI(model=\"gpt-3.5-turbo\")\u001b[39;00m\n\u001b[1;32m     14\u001b[0m agent_llm \u001b[38;5;241m=\u001b[39m OpenAI(model\u001b[38;5;241m=\u001b[39m\u001b[38;5;124m\"\u001b[39m\u001b[38;5;124mgpt-4-1106-preview\u001b[39m\u001b[38;5;124m\"\u001b[39m)\n\u001b[1;32m     16\u001b[0m agent \u001b[38;5;241m=\u001b[39m ReActAgent\u001b[38;5;241m.\u001b[39mfrom_tools(\n\u001b[0;32m---> 17\u001b[0m     \u001b[43mquery_engine_tools\u001b[49m, llm\u001b[38;5;241m=\u001b[39magent_llm, verbose\u001b[38;5;241m=\u001b[39m\u001b[38;5;28;01mTrue\u001b[39;00m, max_iterations\u001b[38;5;241m=\u001b[39m\u001b[38;5;241m20\u001b[39m\n\u001b[1;32m     18\u001b[0m )\n",
      "\u001b[0;31mNameError\u001b[0m: name 'query_engine_tools' is not defined"
     ]
    }
   ],
   "source": [
    "from llama_index.core.agent import AgentRunner, ReActAgent\n",
    "from llama_index.agent.openai import OpenAIAgentWorker, OpenAIAgent\n",
    "from llama_index.agent.openai import OpenAIAgentWorker\n",
    "import os\n",
    "from llama_index.llms.openai import OpenAI\n",
    "# openai_step_engine = OpenAIAgentWorker.from_tools(\n",
    "#     query_engine_tools, llm=llm, verbose=True\n",
    "# )\n",
    "# agent = AgentRunner(openai_step_engine)\n",
    "# # alternative\n",
    "# agent = OpenAIAgent.from_tools(query_engine_tools, llm=llm, verbose=True)\n",
    "\n",
    "#agent_llm = OpenAI(model=\"gpt-3.5-turbo\")\n",
    "agent_llm = OpenAI(model=\"gpt-4-1106-preview\")\n",
    "\n",
    "agent = ReActAgent.from_tools(\n",
    "    query_engine_tools, llm=agent_llm, verbose=True, max_iterations=20\n",
    ")"
   ]
  },
  {
   "cell_type": "code",
   "execution_count": 20,
   "metadata": {},
   "outputs": [
    {
     "name": "stdout",
     "output_type": "stream",
     "text": [
      "\u001b[1;3;38;5;200mThought: The current language of the user is English. I need to use a tool to help me answer the question about Uber's R&D expenditures and revenue changes.\n",
      "Action: march_2022\n",
      "Action Input: {'input': 'R&D expenditures and revenue changes'}\n",
      "\u001b[0m"
     ]
    },
    {
     "name": "stderr",
     "output_type": "stream",
     "text": [
      "Retrying llama_index.llms.openai.base.OpenAI._chat in 0.2624219115644425 seconds as it raised APIConnectionError: Connection error..\n",
      "Retrying llama_index.llms.openai.base.OpenAI._chat in 1.3876672051702936 seconds as it raised APIConnectionError: Connection error..\n"
     ]
    },
    {
     "name": "stdout",
     "output_type": "stream",
     "text": [
      "\u001b[1;3;34mObservation: Error: Connection error.\n",
      "\u001b[0m\u001b[1;3;38;5;200mThought: Since there is a connection error with the tool, I cannot use it to retrieve the information. I will have to inform the user that I cannot provide the requested analysis with the provided tools.\n",
      "Answer: I am currently unable to access the specific financial data due to a connection error with the tool. To analyze changes in R&D expenditures and revenue, I would typically need access to Uber's financial reports over multiple quarters or years. Since I cannot retrieve this information at the moment, I recommend checking Uber's investor relations website or financial news sources for the latest financial reports and conducting the analysis based on the data provided there.\n",
      "\u001b[0m"
     ]
    }
   ],
   "source": [
    "response = agent.chat(\"Analyze the changes in R&D expenditures and revenue\")"
   ]
  },
  {
   "cell_type": "code",
   "execution_count": 21,
   "metadata": {},
   "outputs": [
    {
     "name": "stdout",
     "output_type": "stream",
     "text": [
      "I am currently unable to access the specific financial data due to a connection error with the tool. To analyze changes in R&D expenditures and revenue, I would typically need access to Uber's financial reports over multiple quarters or years. Since I cannot retrieve this information at the moment, I recommend checking Uber's investor relations website or financial news sources for the latest financial reports and conducting the analysis based on the data provided there.\n"
     ]
    }
   ],
   "source": [
    "print(str(response))"
   ]
  },
  {
   "cell_type": "code",
   "execution_count": 1,
   "metadata": {},
   "outputs": [
    {
     "name": "stdout",
     "output_type": "stream",
     "text": [
      "\u001b[1;3;38;5;200mThought: The user has asked for a step-by-step calculation of the expression 20+(2*4)/3. I will break down the calculation into its components and use the appropriate tools to solve each part.\n",
      "Action: multiply\n",
      "Action Input: {'a': 2, 'b': 4}\n",
      "\u001b[0m\u001b[1;3;34mObservation: 8\n",
      "\u001b[0m\u001b[1;3;38;5;200mThought: I have the result of the multiplication part of the expression, which is 8. Now I need to divide this result by 3.\n",
      "Action: devide\n",
      "Action Input: {'a': 8, 'b': 3}\n",
      "\u001b[0m\u001b[1;3;34mObservation: 2.6666666666666665\n",
      "\u001b[0m\u001b[1;3;38;5;200mThought: I have the result of the division part of the expression, which is approximately 2.67. Now I need to add this result to 20.\n",
      "Action: add\n",
      "Action Input: {'a': 20, 'b': 2.6666666666666665}\n",
      "\u001b[0m\u001b[1;3;34mObservation: 22.666666666666668\n",
      "\u001b[0m\u001b[1;3;38;5;200mThought: I can answer without using any more tools. I'll use the user's language to answer.\n",
      "Answer: The result of the expression 20+(2*4)/3 is approximately 22.67. Here's the step-by-step calculation:\n",
      "\n",
      "1. Multiply 2 by 4 to get 8.\n",
      "2. Divide 8 by 3 to get approximately 2.67.\n",
      "3. Add 20 to the result from step 2 to get approximately 22.67.\n",
      "\u001b[0mThe result of the expression 20+(2*4)/3 is approximately 22.67. Here's the step-by-step calculation:\n",
      "\n",
      "1. Multiply 2 by 4 to get 8.\n",
      "2. Divide 8 by 3 to get approximately 2.67.\n",
      "3. Add 20 to the result from step 2 to get approximately 22.67.\n"
     ]
    }
   ],
   "source": [
    "from llama_index.core.agent import ReActAgent\n",
    "from llama_index.llms.ollama import Ollama\n",
    "from llama_index.core.tools import FunctionTool\n",
    "import os\n",
    "from llama_index.llms.llama_cpp import LlamaCPP\n",
    "from llama_index.llms.openai import OpenAI\n",
    "\n",
    "# model_url = \"https://huggingface.co/TheBloke/Llama-2-13B-chat-GGML/resolve/main/llama-2-13b-chat.ggmlv3.q4_0.bin\"\n",
    "model_url = \"https://huggingface.co/TheBloke/Llama-2-13B-chat-GGUF/resolve/main/llama-2-13b-chat.Q4_0.gguf\"\n",
    "\n",
    "llm = LlamaCPP(\n",
    "    # You can pass in the URL to a GGML model to download it automatically\n",
    "    model_path = '/home/sanka/NLP_models/model/mistral-7b-instruct-v0.1.Q4_0.gguf', verbose=False,\n",
    "    temperature=0.9\n",
    "    # optionally, you can set the path to a pre-downloaded model instead of model_url\n",
    "    \n",
    ")\n",
    "\n",
    "os.environ['OPENAI_API_KEY'] =\"\"\n",
    "def multiply(a: float, b: float) -> float:\n",
    "    \"\"\"Multiply two numbers and returns the product\"\"\"\n",
    "    return a * b\n",
    "\n",
    "multiply_tool = FunctionTool.from_defaults(fn=multiply)\n",
    "#add_tool = FunctionTool(fn=add)\n",
    "\n",
    "\n",
    "def add(a: float, b: float) -> float:\n",
    "    \"\"\"Add two numbers and returns the sum\"\"\"\n",
    "    return a + b\n",
    "\n",
    "def devide(a: float, b: float) -> float:\n",
    "    \"\"\"devide two numbers and returns the answer\"\"\"\n",
    "    return a / b\n",
    "\n",
    "add_tool = FunctionTool.from_defaults(fn=add)\n",
    "devide_tool = FunctionTool.from_defaults(fn=devide)\n",
    "llm = OpenAI(model=\"gpt-4-1106-preview\")\n",
    "#llm = Ollama(model=\"/home/sanka/NLP_models/model/mistral-7b-instruct-v0.1.Q4_0.gguf\", request_timeout=120.0)\n",
    "agent = ReActAgent.from_tools([multiply_tool, add_tool, devide_tool], llm=llm, verbose=True)\n",
    "\n",
    "response = agent.chat(\"What is 20+(2*4)/3? Calculate step by step.\")\n",
    "\n",
    "print(response)"
   ]
  }
 ],
 "metadata": {
  "kernelspec": {
   "display_name": "LLMv1",
   "language": "python",
   "name": "python3"
  },
  "language_info": {
   "codemirror_mode": {
    "name": "ipython",
    "version": 3
   },
   "file_extension": ".py",
   "mimetype": "text/x-python",
   "name": "python",
   "nbconvert_exporter": "python",
   "pygments_lexer": "ipython3",
   "version": "3.10.14"
  }
 },
 "nbformat": 4,
 "nbformat_minor": 2
}
